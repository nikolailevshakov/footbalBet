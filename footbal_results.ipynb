{
 "cells": [
  {
   "cell_type": "markdown",
   "metadata": {},
   "source": [
    "# Сбор и подсчет баллов"
   ]
  },
  {
   "cell_type": "markdown",
   "metadata": {},
   "source": [
    "- Экспортируем данные с телеграм-чатов в json формате (result.json)"
   ]
  },
  {
   "cell_type": "markdown",
   "metadata": {},
   "source": [
    "- Запускаем predictions_jsom.py\n",
    "\n",
    "Прогнозы из чата копируются в текстовый файл input.txt"
   ]
  },
  {
   "cell_type": "code",
   "execution_count": 1,
   "metadata": {},
   "outputs": [],
   "source": [
    "%run -i predictions_json.py"
   ]
  },
  {
   "cell_type": "code",
   "execution_count": 2,
   "metadata": {},
   "outputs": [],
   "source": [
    "import requests\n",
    "import time\n",
    "from selenium.webdriver import Chrome, ActionChains"
   ]
  },
  {
   "cell_type": "markdown",
   "metadata": {},
   "source": [
    "- Вводим названия команд-хозяев этой недели (home_teams)"
   ]
  },
  {
   "cell_type": "code",
   "execution_count": 3,
   "metadata": {},
   "outputs": [],
   "source": [
    "results = []\n",
    "home_teams = ['Ростов', 'Химки', 'Эвертон', 'Валенсия', 'Аталанта', 'Рубин', 'Челси', \n",
    "              'Барселона', 'Наполи', 'Милан' ]"
   ]
  },
  {
   "cell_type": "code",
   "execution_count": 4,
   "metadata": {},
   "outputs": [],
   "source": [
    "flash_score = 'https://www.flashscore.ru/football/'\n",
    "apl = 'england/premier-league/results/'\n",
    "gpl = 'germany/bundesliga/results/'\n",
    "spl = 'spain/laliga/results/'\n",
    "ipl = 'italy/serie-a/results/'\n",
    "fpl = 'france/ligue-1/results/'\n",
    "rpl = 'russia/premier-league/results/'\n",
    "fnl = 'russia/fnl/results/'\n",
    "lch = 'europe/champions-league/results/'"
   ]
  },
  {
   "cell_type": "code",
   "execution_count": 5,
   "metadata": {},
   "outputs": [],
   "source": [
    "england = ['Вулверхэмптон', 'Астон Вилла','Лестер','Челси','Ньюкасл Юнайтед','Саутгемптон','Арсенал','Манчестер Юнайтед',\n",
    " 'Лидс','Эвертон','Брайтон','Кристал Пэлас','Вест Бромвич','Бёрнли','Шеффилд Юнайтед','Тоттенхэм','Манчестер Сити','Вест Хэм',\n",
    " 'Фулхэм','Ливерпуль']\n",
    "germany = ['Вольфсбург','РБ Лейпциг','Боруссия Д','Айнтрахт Ф','Вердер','Кёльн','Унион Берлин','Штутгарт','Бавария',\n",
    " 'Байер','Майнц','Боруссия М','Арминия','Герта','Хоффенхайм','Аугсбург','Фрайбург','Шальке']\n",
    "spain = ['Алавес','Атлетик','Атлетико','Барселона','Бетис','Валенсия','Вальядолид','Вильярреал','Гранада','Кадис','Леванте',\n",
    " 'Осасуна','Реал Мадрид','Реал Сосьедад','Севилья','Сельта','Уэска','Хетафе','Эйбар','Эльче']\n",
    "italy = ['Аталанта','Беневенто','Болонья','Верона','Дженоа','Интер','Кальяри','Кротоне','Лацио','Милан','Наполи','Парма',\n",
    " 'Рома','Сампдория','Сассуоло','Специя','Торино','Удинезе','Фиорентина','Ювентус']\n",
    "france = ['Анже','Бордо','Брест','Дижон','Ланс','Лилль','Лион','Лорьян','Марсель','Мец','Монако','Монпелье','Нант','Ним',\n",
    " 'Ницца','ПСЖ','Реймс','Ренн','Сент-Этьен','Страсбур']\n",
    "russia = ['Арсенал Тула','Ахмат','Динамо Москва','Зенит','Краснодар','Локомотив Москва','Ростов','Ротор','Рубин','Сочи',\n",
    " 'Спартак Москва','Тамбов','Урал','Уфа','Химки','ЦСКА']\n",
    "russia2 = ['Акрон Тольятти','Алания','Балтика','Велес Москва','Волгарь','Динамо Брянск','Енисей','Иртыш Омск','Краснодар 2',\n",
    " 'Крылья Советов','Нефтехимик','Нижний Новгород','Оренбург','СКА-Хабаровск','Спартак Москва 2','Текстильщик','Томь',\n",
    " 'Торпедо Москва','Факел','Чайка','Чертаново','Шинник']\n",
    "champions = []"
   ]
  },
  {
   "cell_type": "code",
   "execution_count": 1,
   "metadata": {},
   "outputs": [],
   "source": [
    "# Принимаем кукис\n",
    "def initBtn():\n",
    "    btn = driver.find_element_by_id('onetrust-accept-btn-handler')\n",
    "    ActionChains(driver).click(btn).perform()"
   ]
  },
  {
   "cell_type": "code",
   "execution_count": 7,
   "metadata": {},
   "outputs": [],
   "source": [
    "driver = Chrome('C:/WebDriver/chromedriver')\n",
    "driver.get(flash_score)\n",
    "time.sleep(3)\n",
    "initBtn()"
   ]
  },
  {
   "cell_type": "code",
   "execution_count": 8,
   "metadata": {},
   "outputs": [],
   "source": [
    "def score_from_game(league, team):\n",
    "    global results\n",
    "    driver.get(flash_score+league)\n",
    "    time.sleep(2)\n",
    "    games = driver.find_elements_by_class_name('event__match')\n",
    "    for game in games:\n",
    "        home_team = game.find_element_by_class_name('event__participant--home').text\n",
    "        if home_team == team:\n",
    "            game_res = game.find_element_by_class_name('event__scores').find_elements_by_tag_name('span')\n",
    "            game_res_arr = []\n",
    "            for res in game_res:\n",
    "                game_res_arr.append(res.text)\n",
    "            game_res_str = \"\".join(map(str, game_res_arr))\n",
    "            print(game_res_str)\n",
    "            results.append(game_res_str)\n",
    "            return"
   ]
  },
  {
   "cell_type": "code",
   "execution_count": 9,
   "metadata": {},
   "outputs": [],
   "source": [
    "def get_scores(home_teams=home_teams):\n",
    "    global results\n",
    "    for team in home_teams:\n",
    "        if team in england:\n",
    "            score_from_game(apl, team)\n",
    "            print(team)\n",
    "        elif team in germany:\n",
    "            score_from_game(gpl, team)\n",
    "            print(team)\n",
    "        elif team in spain:\n",
    "            score_from_game(spl, team)\n",
    "            print(team)\n",
    "        elif team in italy:\n",
    "            score_from_game(ipl, team)\n",
    "            print(team)\n",
    "        elif team in france:\n",
    "            score_from_game(fpl, team)\n",
    "            print(team)\n",
    "        elif team in russia:\n",
    "            score_from_game(rpl, team)\n",
    "            print(team)\n",
    "        elif team in russia2:\n",
    "            score_from_game(fnl, team)\n",
    "            print(team)\n",
    "        else:\n",
    "            results.append('Unknown team')\n",
    "            print('Unknown team')"
   ]
  },
  {
   "cell_type": "markdown",
   "metadata": {},
   "source": [
    "- Идем на сайт flashscore.ru и собираем результаты игр"
   ]
  },
  {
   "cell_type": "code",
   "execution_count": 10,
   "metadata": {},
   "outputs": [
    {
     "name": "stdout",
     "output_type": "stream",
     "text": [
      "41\n",
      "Ростов\n",
      "10\n",
      "Химки\n",
      "01\n",
      "Эвертон\n",
      "01\n",
      "Валенсия\n",
      "02\n",
      "Аталанта\n",
      "10\n",
      "Рубин\n",
      "00\n",
      "Челси\n",
      "40\n",
      "Барселона\n",
      "40\n",
      "Наполи\n",
      "20\n",
      "Милан\n"
     ]
    }
   ],
   "source": [
    "get_scores()"
   ]
  },
  {
   "cell_type": "code",
   "execution_count": 11,
   "metadata": {},
   "outputs": [
    {
     "name": "stdout",
     "output_type": "stream",
     "text": [
      "['41', '10', '01', '01', '02', '10', '00', '40', '40', '20']\n",
      "10\n"
     ]
    }
   ],
   "source": [
    "# Проверяем всё ли собрали\n",
    "print(results)\n",
    "print(len(results))"
   ]
  },
  {
   "cell_type": "code",
   "execution_count": 12,
   "metadata": {},
   "outputs": [],
   "source": [
    "driver.quit()"
   ]
  },
  {
   "cell_type": "code",
   "execution_count": 13,
   "metadata": {},
   "outputs": [],
   "source": [
    "results = ' '.join(results)"
   ]
  },
  {
   "cell_type": "markdown",
   "metadata": {},
   "source": [
    "- В текстовый файл input.txt вводим строку с итогами игр"
   ]
  },
  {
   "cell_type": "code",
   "execution_count": 14,
   "metadata": {},
   "outputs": [],
   "source": [
    "with open('input.txt', 'a') as input_:\n",
    "    input_.writelines(results)"
   ]
  },
  {
   "cell_type": "code",
   "execution_count": 15,
   "metadata": {},
   "outputs": [],
   "source": [
    "input_.close()"
   ]
  },
  {
   "cell_type": "markdown",
   "metadata": {},
   "source": [
    "- Считаем баллы и выводим таблицу недели"
   ]
  },
  {
   "cell_type": "code",
   "execution_count": 16,
   "metadata": {},
   "outputs": [
    {
     "name": "stdout",
     "output_type": "stream",
     "text": [
      "-------------------------------\n",
      "lev\n",
      "10\n",
      "Tit\n",
      "6\n",
      "Ryk\n",
      "6\n",
      "Ali\n",
      "9\n",
      "Kub\n",
      "8\n",
      "-------------------------------\n"
     ]
    }
   ],
   "source": [
    "%run -i calc.py"
   ]
  }
 ],
 "metadata": {
  "kernelspec": {
   "display_name": "Python 3.8.3 64-bit",
   "language": "python",
   "name": "python38364bit67e6f4d3169f4b3285a20ff784197e12"
  },
  "language_info": {
   "codemirror_mode": {
    "name": "ipython",
    "version": 3
   },
   "file_extension": ".py",
   "mimetype": "text/x-python",
   "name": "python",
   "nbconvert_exporter": "python",
   "pygments_lexer": "ipython3",
   "version": "3.8.3"
  }
 },
 "nbformat": 4,
 "nbformat_minor": 4
}
