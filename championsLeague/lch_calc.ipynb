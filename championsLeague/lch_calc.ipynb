{
 "cells": [
  {
   "cell_type": "markdown",
   "metadata": {},
   "source": [
    "Ищем прогнозы и записываем в input.txt"
   ]
  },
  {
   "cell_type": "code",
   "execution_count": null,
   "metadata": {},
   "outputs": [],
   "source": [
    "%run -i predictions_lch_json.py"
   ]
  },
  {
   "cell_type": "code",
   "execution_count": 1,
   "metadata": {},
   "outputs": [],
   "source": [
    "import requests\n",
    "import time\n",
    "from selenium.webdriver import Chrome, ActionChains\n",
    "from webdriver_manager.chrome import ChromeDriverManager\n",
    "\n",
    "import warnings\n",
    "warnings.filterwarnings(\"ignore\")"
   ]
  },
  {
   "cell_type": "code",
   "execution_count": 52,
   "metadata": {},
   "outputs": [],
   "source": [
    "group_A = ['Бавария','Атлетико','Локомотив Москва','Зальцбург']\n",
    "group_B = ['Интер','Боруссия М','Шахтер Донецк','Реал Мадрид']\n",
    "group_C = ['Марсель','Порту','Олимпиакос','Манчестер Сити']\n",
    "group_D = ['Аякс','Ливерпуль','Аталанта','Мидтьюлланн']\n",
    "group_E = ['Ренн','Севилья','Челси','Краснодар']\n",
    "group_F = ['Боруссия Д','Лацио','Зенит','Брюгге']\n",
    "group_G = ['Ференцварош','Барселона','Динамо Киев','Ювентус']\n",
    "group_H = ['ПСЖ','Манчестер Юнайтед','РБ Лейпциг','Башакшехир']\n",
    "groups = [group_A, group_B, group_C, group_D, group_E, group_F, group_G, group_H]"
   ]
  },
  {
   "cell_type": "code",
   "execution_count": 3,
   "metadata": {},
   "outputs": [],
   "source": [
    "link = 'https://www.flashscore.ru/football/europe/champions-league/standings/'"
   ]
  },
  {
   "cell_type": "code",
   "execution_count": 4,
   "metadata": {},
   "outputs": [],
   "source": [
    "def initBtn():\n",
    "    btn = driver.find_element_by_id('onetrust-accept-btn-handler')\n",
    "    ActionChains(driver).click(btn).perform()"
   ]
  },
  {
   "cell_type": "code",
   "execution_count": 5,
   "metadata": {},
   "outputs": [
    {
     "name": "stderr",
     "output_type": "stream",
     "text": [
      "[WDM] - Current google-chrome version is 87.0.4280\n",
      "[WDM] - Get LATEST driver version for 87.0.4280\n"
     ]
    },
    {
     "name": "stdout",
     "output_type": "stream",
     "text": [
      " \n"
     ]
    },
    {
     "name": "stderr",
     "output_type": "stream",
     "text": [
      "[WDM] - Get LATEST driver version for 87.0.4280\n",
      "[WDM] - Trying to download new driver from http://chromedriver.storage.googleapis.com/87.0.4280.88/chromedriver_win32.zip\n",
      "[WDM] - Driver has been saved in cache [C:\\Users\\Николай\\.wdm\\drivers\\chromedriver\\win32\\87.0.4280.88]\n"
     ]
    }
   ],
   "source": [
    "driver = Chrome(ChromeDriverManager().install())\n",
    "driver.get(link)\n",
    "time.sleep(3)\n",
    "initBtn()"
   ]
  },
  {
   "cell_type": "markdown",
   "metadata": {},
   "source": [
    "Парсим список списков команд в порядке убывания мест"
   ]
  },
  {
   "cell_type": "code",
   "execution_count": 43,
   "metadata": {},
   "outputs": [],
   "source": [
    "def lchTeamsOrder():\n",
    "    groups = []\n",
    "    for table in tables:\n",
    "        table_inners = table.find_elements_by_tag_name('a')\n",
    "        group_inst = []\n",
    "        for ref in table_inners:\n",
    "            if ref.text != '':\n",
    "                group_inst.append(ref.text)\n",
    "        groups.append(group_inst)\n",
    "    return groups"
   ]
  },
  {
   "cell_type": "markdown",
   "metadata": {},
   "source": [
    "Получаем список мест команд"
   ]
  },
  {
   "cell_type": "code",
   "execution_count": 70,
   "metadata": {},
   "outputs": [],
   "source": [
    "def getPlaces():\n",
    "    letters = ['A','B','C','D','E','F','G','H']\n",
    "    real_output = ''\n",
    "    teams_real=lchTeamsOrder()\n",
    "    for i, group in enumerate(teams_real):\n",
    "        out = ''\n",
    "        for team in group:\n",
    "            place = groups[i].index(team)+1\n",
    "            out += str(place)\n",
    "        real_output += ' '+letters[i]+out\n",
    "    return real_output[1:]"
   ]
  },
  {
   "cell_type": "markdown",
   "metadata": {},
   "source": [
    "Записываем в input.txt"
   ]
  },
  {
   "cell_type": "code",
   "execution_count": 73,
   "metadata": {},
   "outputs": [],
   "source": [
    "with open('input_lch.txt', 'a') as input_:\n",
    "    input_.writelines(getPlaces())"
   ]
  },
  {
   "cell_type": "code",
   "execution_count": 74,
   "metadata": {},
   "outputs": [],
   "source": [
    "input_.close()"
   ]
  },
  {
   "cell_type": "markdown",
   "metadata": {},
   "source": [
    "Считаем баллы"
   ]
  },
  {
   "cell_type": "markdown",
   "metadata": {},
   "source": [
    "Как будет оцениваться:\n",
    "- Правильно угаданное место 3 балла\n",
    "- За правильно угаданное место в двойке - 2 балла\n",
    "- За правильно угаданное место в тройке 1 балл"
   ]
  },
  {
   "cell_type": "code",
   "execution_count": 76,
   "metadata": {},
   "outputs": [
    {
     "name": "stdout",
     "output_type": "stream",
     "text": [
      "Kub 30\n",
      "Ali 31\n",
      "Tit 33\n",
      "Ryk 32\n",
      "Lev 32\n"
     ]
    }
   ],
   "source": [
    "%run -i calc_lch.py"
   ]
  },
  {
   "cell_type": "code",
   "execution_count": null,
   "metadata": {},
   "outputs": [],
   "source": []
  }
 ],
 "metadata": {
  "kernelspec": {
   "display_name": "Python 3.8.3 64-bit",
   "language": "python",
   "name": "python38364bit67e6f4d3169f4b3285a20ff784197e12"
  },
  "language_info": {
   "codemirror_mode": {
    "name": "ipython",
    "version": 3
   },
   "file_extension": ".py",
   "mimetype": "text/x-python",
   "name": "python",
   "nbconvert_exporter": "python",
   "pygments_lexer": "ipython3",
   "version": "3.8.3"
  }
 },
 "nbformat": 4,
 "nbformat_minor": 4
}
